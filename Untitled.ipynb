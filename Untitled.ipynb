{
 "cells": [
  {
   "cell_type": "markdown",
   "metadata": {},
   "source": []
  },
  {
   "cell_type": "code",
   "execution_count": 1,
   "metadata": {},
   "outputs": [],
   "source": [
    "import pickle\n",
    "import pandas as pd\n",
    "from sklearn.ensemble import RandomForestClassifier\n",
    "from sklearn.model_selection import cross_val_score\n",
    "from sklearn.neural_network import MLPClassifier\n",
    "import numpy as np\n",
    "from sklearn.feature_selection import SelectKBest, chi2, mutual_info_classif\n",
    "from sklearn.naive_bayes import GaussianNB, MultinomialNB\n",
    "from sklearn.ensemble import StackingClassifier\n",
    "from sklearn.linear_model import LogisticRegression\n",
    "import time\n",
    "\n",
    "\n",
    "# Store Original data\n",
    "whole_data = pd.read_csv(r\"data/recipe_train.csv\", index_col = False, delimiter = ',', header=0)\n",
    "y_train = whole_data[\"duration_label\"]"
   ]
  },
  {
   "cell_type": "markdown",
   "metadata": {},
   "source": [
    "Stacking"
   ]
  },
  {
   "cell_type": "code",
   "execution_count": 4,
   "metadata": {},
   "outputs": [
    {
     "name": "stderr",
     "output_type": "stream",
     "text": [
      "E:\\Anaconda\\lib\\site-packages\\sklearn\\utils\\validation.py:508: UserWarning: pandas.DataFrame with sparse columns found.It will be converted to a dense numpy array.\n",
      "  warnings.warn(\n"
     ]
    },
    {
     "name": "stdout",
     "output_type": "stream",
     "text": [
      "Stacking Train Score:  0.84875\n",
      "Stacking Test Score:  0.8044\n"
     ]
    }
   ],
   "source": [
    "\n",
    "X_train = pickle.load(open('./model/train_combined_df.sav', 'rb'))\n",
    "\n",
    "mi_model = pickle.load(open('./model/top_5000_mi_model - 0.81400.sav', 'rb'))\n",
    "X_train = mi_model.transform(X_train)\n",
    "## Use 5000 Features as starting X_train\n",
    "\n",
    "\n",
    "\n",
    "estimators = [\n",
    "    ('NN',  MLPClassifier(max_iter=2000, alpha=1.0, hidden_layer_sizes=[100], random_state=10)),\n",
    "    ('MNB', MultinomialNB())\n",
    "]\n",
    "\n",
    "# Build Stacking Model\n",
    "stack_model = StackingClassifier(\n",
    "    estimators=estimators, \n",
    "    final_estimator=LogisticRegression(),\n",
    "    cv = 3,\n",
    "    n_jobs = -1,\n",
    ")\n",
    "\n",
    "\n",
    "# Fit the model\n",
    "stack_model.fit(X_train, y_train)\n",
    "\n",
    "pickle.dump(stack_model, open('./model/stack_5000_MNB.sav', 'wb'))\n",
    "\n",
    "print(\"Stacking Train Score: \", stack_model.score(X_train, y_train))\n",
    "print(\"Stacking Test Score: \", np.mean(cross_val_score(stack_model,X_train,y_train,cv=5,n_jobs=-1)))\n",
    "\n"
   ]
  },
  {
   "cell_type": "code",
   "execution_count": 5,
   "metadata": {},
   "outputs": [
    {
     "name": "stderr",
     "output_type": "stream",
     "text": [
      "E:\\Anaconda\\lib\\site-packages\\sklearn\\utils\\validation.py:508: UserWarning: pandas.DataFrame with sparse columns found.It will be converted to a dense numpy array.\n",
      "  warnings.warn(\n"
     ]
    }
   ],
   "source": [
    "# Load Preprocessed Test Data:\n",
    "X_test = pickle.load(open('./model/test_combined_df.sav', 'rb'))\n",
    "\n",
    "# PreProcessing Get Top 5000 features\n",
    "mi_model = \n",
    "X_test = mi_model.transform(X_test)\n",
    "\n",
    "# Select which stack model we wanna use\n",
    "model = pickle.load(open('./model/stack_5000_MNB_with_best_NN.sav', 'rb'))\n",
    "#Use Model to Test Data\n",
    "result = model.predict(X_test)\n",
    "\n",
    "# Output To CSV\n",
    "out=pd.DataFrame(result)\n",
    "out.index.name='id'\n",
    "out.index += 1\n",
    "out.to_csv('./output/predict_label_stacking_NN_MNB_RF_4000.csv',header = ['duration_label'])"
   ]
  },
  {
   "cell_type": "code",
   "execution_count": null,
   "metadata": {},
   "outputs": [],
   "source": []
  },
  {
   "cell_type": "markdown",
   "metadata": {},
   "source": [
    "Others"
   ]
  },
  {
   "cell_type": "code",
   "execution_count": null,
   "metadata": {},
   "outputs": [
    {
     "name": "stderr",
     "output_type": "stream",
     "text": [
      "E:\\Anaconda\\lib\\site-packages\\sklearn\\utils\\validation.py:508: UserWarning: pandas.DataFrame with sparse columns found.It will be converted to a dense numpy array.\n",
      "  warnings.warn(\n",
      "E:\\Anaconda\\lib\\site-packages\\sklearn\\neural_network\\_multilayer_perceptron.py:587: UserWarning: Training interrupted by user.\n",
      "  warnings.warn(\"Training interrupted by user.\")\n"
     ]
    },
    {
     "name": "stdout",
     "output_type": "stream",
     "text": [
      "4000  features NN Train Score:  0.85125\n"
     ]
    }
   ],
   "source": [
    "X_train = pickle.load(open('./model/train_combined_df.sav', 'rb'))\n",
    "\n",
    "mi_model = pickle.load(open('./model/top_5000_mi_model - 0.81400.sav', 'rb'))\n",
    "X_train = mi_model.transform(X_train)\n",
    "## Use 5000 Features as starting X_train\n",
    "\n",
    "\n",
    "# Iterate, find best K value\n",
    "for k in range(4000,2000, -500):\n",
    "    mi = SelectKBest(k=k)\n",
    "\n",
    "    X_train = mi.fit_transform(X_train, y_train)\n",
    "    clf = MLPClassifier(max_iter=2000, alpha = 1.0)\n",
    "    clf.fit(X_train, y_train)\n",
    "    print(k, \" features NN Train Score: \", clf.score(X_train,y_train))\n",
    "    print(k, \" features NN Test Score: \", np.mean(cross_val_score(clf,X_train,y_train,cv=5,n_jobs=-1)))\n",
    "    "
   ]
  },
  {
   "cell_type": "markdown",
   "metadata": {},
   "source": [
    "## Cross Val"
   ]
  },
  {
   "cell_type": "code",
   "execution_count": 11,
   "metadata": {},
   "outputs": [
    {
     "name": "stderr",
     "output_type": "stream",
     "text": [
      "E:\\Anaconda\\lib\\site-packages\\sklearn\\utils\\validation.py:508: UserWarning: pandas.DataFrame with sparse columns found.It will be converted to a dense numpy array.\n",
      "  warnings.warn(\n"
     ]
    },
    {
     "name": "stdout",
     "output_type": "stream",
     "text": [
      "10906 features NN cross-val Score:  0.782225\n"
     ]
    }
   ],
   "source": [
    "X_train = pickle.load(open('./model/train_combined_df.sav', 'rb'))\n",
    "NN_model = MLPClassifier(max_iter=2000)\n",
    "NN_model.fit(X_train,y_train)\n",
    "\n",
    "print(\"10906 features NN cross-val Score: \", np.mean(cross_val_score(NN_model,X_train,y_train,cv=5,n_jobs=-1)))"
   ]
  },
  {
   "cell_type": "code",
   "execution_count": 9,
   "metadata": {},
   "outputs": [
    {
     "name": "stdout",
     "output_type": "stream",
     "text": [
      "2000 features NN cross-val Score:  0.80365\n"
     ]
    }
   ],
   "source": [
    "X_train = pickle.load(open('./model/train_combined_df_small.sav', 'rb'))\n",
    "\n",
    "\n",
    "NN_model = pickle.load(open('./model/nn_model_2000.sav', 'rb'))\n",
    "print(\"2000 features NN cross-val Score: \", np.mean(cross_val_score(NN_model,X_train,y_train,cv=5,n_jobs=-1)))"
   ]
  },
  {
   "cell_type": "code",
   "execution_count": 10,
   "metadata": {},
   "outputs": [
    {
     "name": "stderr",
     "output_type": "stream",
     "text": [
      "E:\\Anaconda\\lib\\site-packages\\sklearn\\utils\\validation.py:508: UserWarning: pandas.DataFrame with sparse columns found.It will be converted to a dense numpy array.\n",
      "  warnings.warn(\n"
     ]
    },
    {
     "name": "stdout",
     "output_type": "stream",
     "text": [
      "5000 features NN cross-val Score:  0.8039\n"
     ]
    }
   ],
   "source": [
    "X_train = pickle.load(open('./model/train_combined_df.sav', 'rb'))\n",
    "mi_model = pickle.load(open('./model/top_5000_mi_model - 0.81400.sav', 'rb'))\n",
    "X_train = mi_model.transform(X_train)\n",
    "\n",
    "\n",
    "NN_model = pickle.load(open('./model/nn_model - 0.81400.sav', 'rb'))\n",
    "print(\"5000 features NN cross-val Score: \", np.mean(cross_val_score(NN_model,X_train,y_train,cv=5,n_jobs=-1)))"
   ]
  },
  {
   "cell_type": "markdown",
   "metadata": {},
   "source": [
    "## Stacking VS Stacking VS NN\n",
    "\n",
    "\n",
    "## \n",
    "\n",
    "Use top 5000 Features Data Frame, Results:\n",
    "\n",
    "- Stacking (with rf, DT, NN) Score:  \n",
    "        - Training: 0.9297\n",
    "        - Testing: 0.81300\n",
    "        \n",
    "- Only NN Score:\n",
    "        - Training: 0.8524\n",
    "        - Testing: 0.81400\n",
    "        \n",
    "- Stacking (with rf, NN) Score:  \n",
    "        - Training: ???\n",
    "        - Testing: ???"
   ]
  },
  {
   "cell_type": "code",
   "execution_count": null,
   "metadata": {
    "scrolled": true
   },
   "outputs": [
    {
     "name": "stderr",
     "output_type": "stream",
     "text": [
      "E:\\Anaconda\\lib\\site-packages\\sklearn\\utils\\validation.py:508: UserWarning: pandas.DataFrame with sparse columns found.It will be converted to a dense numpy array.\n",
      "  warnings.warn(\n",
      "E:\\Anaconda\\lib\\site-packages\\sklearn\\utils\\validation.py:508: UserWarning: pandas.DataFrame with sparse columns found.It will be converted to a dense numpy array.\n",
      "  warnings.warn(\n"
     ]
    },
    {
     "name": "stdout",
     "output_type": "stream",
     "text": [
      "Training test Score: 0.925325\n"
     ]
    }
   ],
   "source": [
    "# Load Preprocessed Test Data:\n",
    "X_train = pickle.load(open('./model/train_combined_df_small.sav', 'rb'))\n",
    "y_train = whole_data[\"duration_label\"]\n",
    "# Select which model and mi selector we wanna use\n",
    "model = pickle.load(open('./model/stacking_model_selectfeature_small.sav', 'rb'))\n",
    "\n",
    "#Use Model to Test Data\n",
    "print(\"Training test Score:\", model.score(X_train,y_train))\n",
    "print(\"Cross Val Score:\", cross_val_score(model,X_train,y_train,cv=5,n_jobs=-1))\n",
    "\n",
    "# Output To CSV\n",
    "# out=pd.DataFrame(result)\n",
    "# out.index.name='id'\n",
    "# out.index += 1\n",
    "# out.to_csv('./output/predict_label_stacking.csv',header = ['duration_label'])"
   ]
  }
 ],
 "metadata": {
  "kernelspec": {
   "display_name": "Python 3",
   "language": "python",
   "name": "python3"
  },
  "language_info": {
   "codemirror_mode": {
    "name": "ipython",
    "version": 3
   },
   "file_extension": ".py",
   "mimetype": "text/x-python",
   "name": "python",
   "nbconvert_exporter": "python",
   "pygments_lexer": "ipython3",
   "version": "3.8.5"
  }
 },
 "nbformat": 4,
 "nbformat_minor": 4
}
