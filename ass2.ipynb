{
 "cells": [
  {
   "cell_type": "code",
   "execution_count": 37,
   "metadata": {},
   "outputs": [],
   "source": [
    "import pandas as pd\n",
    "import sklearn\n",
    "from sklearn.model_selection import cross_val_score\n",
    "from sklearn.model_selection import train_test_split # Newer versions\n",
    "from sklearn.feature_extraction.text import CountVectorizer\n",
    "import numpy as np\n",
    "from sklearn import datasets, svm\n",
    "import matplotlib.pyplot as plt\n",
    "import random\n",
    "from sklearn import svm\n",
    "from sklearn.naive_bayes import GaussianNB, MultinomialNB\n",
    "from sklearn.neighbors import KNeighborsClassifier\n",
    "from sklearn.tree import DecisionTreeClassifier\n",
    "from sklearn.dummy import DummyClassifier\n",
    "from sklearn.metrics import accuracy_score\n",
    "from sklearn.linear_model import LogisticRegression\n",
    "import time\n",
    "from sklearn.feature_selection import SelectKBest, chi2, mutual_info_classif\n",
    "from sklearn.pipeline import Pipeline\n",
    "from sklearn.preprocessing import StandardScaler\n",
    "from sklearn.neural_network import MLPClassifier\n",
    "import pickle\n",
    "import scipy.sparse\n",
    "from scipy.sparse import hstack\n",
    "from sklearn.model_selection import GridSearchCV\n",
    "\n",
    "\n",
    "# mute warning that assign columns on dataframe   eg,  df[\"col1\"] = df[\"col11\"]\n",
    "pd.options.mode.chained_assignment = None  # default='warn'\n",
    "\n",
    "\n",
    "\n",
    "# Store Original data\n",
    "whole_data = pd.read_csv(r\"data/recipe_train.csv\", index_col = False, delimiter = ',', header=0)"
   ]
  },
  {
   "cell_type": "markdown",
   "metadata": {},
   "source": [
    "## Read Files "
   ]
  },
  {
   "cell_type": "code",
   "execution_count": 20,
   "metadata": {},
   "outputs": [
    {
     "name": "stdout",
     "output_type": "stream",
     "text": [
      "X_train: (26800, 5) X_test: (13200, 5)\n"
     ]
    }
   ],
   "source": [
    "# Store Original data\n",
    "whole_data = pd.read_csv(r\"data/recipe_train.csv\", index_col = False, delimiter = ',', header=0)\n",
    "\n",
    "\n",
    "\n",
    "# Split into attributes and class\n",
    "y_df = whole_data[\"duration_label\"]    #class df\n",
    "x_df = whole_data.drop(['duration_label'], axis=1)    # features df\n",
    "\n",
    "# train test split\n",
    "X_train, X_test, y_train, y_test = train_test_split(x_df, y_df, test_size = 0.33, random_state = 123)\n",
    "print('X_train: {} X_test: {}'.format(X_train.shape, X_test.shape))"
   ]
  },
  {
   "cell_type": "code",
   "execution_count": null,
   "metadata": {},
   "outputs": [],
   "source": [
    "# Small test Data\n",
    "# random sample part of data for plotting use\n",
    "sample_data = whole_data.sample(1000)\n",
    "# Split into attributes and class\n",
    "sample_y_df = sample_data[\"duration_label\"]    #class df\n",
    "sample_x_df = sample_data.drop(['duration_label'], axis=1)    # features df\n",
    "\n",
    "# train test split\n",
    "sample_X_train, sample_X_test, sample_y_train, sample_y_test = train_test_split(sample_x_df, sample_y_df, test_size = 0.33, random_state = 123)\n",
    "print('X_train: {} X_test: {}'.format(sample_X_train.shape, sample_X_test.shape))"
   ]
  },
  {
   "cell_type": "markdown",
   "metadata": {},
   "source": [
    "### Explore the relations between n_steps, n_ingredients  with Cooking Time"
   ]
  },
  {
   "cell_type": "code",
   "execution_count": null,
   "metadata": {},
   "outputs": [],
   "source": [
    "## Only Using n_steps and n_ingredients\n",
    "\n",
    "# use random sample instead of full size to generate better graph\n",
    "sample_X_train = sample_X_train.loc[:,[\"n_ingredients\", \"n_steps\"]]\n",
    "\n",
    "# Plot the training points\n",
    "plt.scatter(sample_X_train[\"n_ingredients\"], sample_X_train[\"n_steps\"], c = sample_y_train, cmap=plt.cm.Set1, edgecolor='k')\n",
    "plt.xlabel('n_ingredients')\n",
    "plt.ylabel('n_steps')\n",
    "plt.xticks(())\n",
    "plt.yticks(())\n",
    "plt.title(\"n_ingredients & n_steps VS Cooking Time\")\n",
    "plt.show()\n",
    "\n",
    "plt.scatter(sample_X_train[\"n_steps\"], sample_y_train, c = sample_y_train, cmap=plt.cm.Set1, edgecolor='k')\n",
    "plt.xlabel('n_steps')\n",
    "plt.ylabel('Cooking Time')\n",
    "plt.xticks(())\n",
    "plt.yticks(())\n",
    "plt.title(\"n_steps vs cooking time\")\n",
    "plt.show()\n",
    "\n",
    "plt.scatter(sample_X_train[\"n_ingredients\"], sample_y_train, c = sample_y_train, cmap=plt.cm.Set1, edgecolor='k')\n",
    "plt.xlabel('n_ingredients')\n",
    "plt.ylabel('Cooking Time')\n",
    "plt.xticks(())\n",
    "plt.yticks(())\n",
    "plt.title(\"n_ingredients vs cooking time\")\n",
    "plt.show()\n",
    "\n"
   ]
  },
  {
   "cell_type": "markdown",
   "metadata": {},
   "source": [
    "As graph shown above, simply using n_ingredients and n_steps cannot do the classification,\n",
    "for the reason that the numbers of steps / ingredients cannot form clear clusters to classify cooking time"
   ]
  },
  {
   "cell_type": "markdown",
   "metadata": {},
   "source": [
    "## Only use n_steps and n_ingredients to do prediction"
   ]
  },
  {
   "cell_type": "code",
   "execution_count": null,
   "metadata": {},
   "outputs": [],
   "source": [
    "X_train = X_train[[\"n_steps\", \"n_ingredients\"]]\n",
    "X_train.head(3)\n",
    "X_test = X_test[[\"n_steps\", \"n_ingredients\"]]\n",
    "X_test.head(3)"
   ]
  },
  {
   "cell_type": "code",
   "execution_count": null,
   "metadata": {},
   "outputs": [],
   "source": [
    "# From workshop 06, using SVM with linear SVM and cubic SVM to do the classification\n",
    "\n",
    "from sklearn.tree import DecisionTreeClassifier\n",
    "from sklearn.neighbors import KNeighborsClassifier\n",
    "from sklearn.model_selection import cross_val_score\n",
    "\n",
    "#print(cross_val_score(zero_r, X, y, cv=10))\n",
    "X = X_train\n",
    "y = y_train\n",
    "\n",
    "#try to change C to 1000 or 0.001\n",
    "C = 1.0  # SVM regularization parameter\n",
    "\n",
    "models = [DecisionTreeClassifier(max_depth=1),\n",
    "          KNeighborsClassifier(n_neighbors=1),\n",
    "          KNeighborsClassifier(n_neighbors=5),\n",
    "          DecisionTreeClassifier(max_depth=50),\n",
    "          svm.LinearSVC(C=C, max_iter = 200),]\n",
    "          #svm.SVC(kernel='rbf', gamma=0.7, C=C)]\n",
    "\n",
    "titles = ['1-R',\n",
    "          '1-Nearest Neighbour',\n",
    "          '5-Nearest Neighbour',\n",
    "          'Decision Tree',\n",
    "          'LinearSVC',]\n",
    "          #'SVM with a cubic kernel']\n",
    "\n",
    "title_training_acc = {}\n",
    "for title, model in zip(titles, models):\n",
    "    model.fit(X, y)\n",
    "    title_training_acc[title] = model.score(X,y)\n",
    "\n",
    "title_crossvalidation_acc = {}\n",
    "for title, model in zip(titles, models):\n",
    "    title_crossvalidation_acc[title] = cross_val_score(model, X, y, cv = 10).mean()\n",
    "\n",
    "for title in titles:\n",
    "    print(title, ': Training Acc', title_training_acc[title], '; X-Val Acc', title_crossvalidation_acc[title])\n",
    "    "
   ]
  },
  {
   "cell_type": "markdown",
   "metadata": {},
   "source": [
    "Overall, we found that the SVM method using only n_steps and n_ingredients doesn't perform well, as the result is close to 0-R baseline"
   ]
  },
  {
   "cell_type": "markdown",
   "metadata": {},
   "source": [
    "## Using Stacking Classifier\n",
    "\n",
    "code from workshop 08\n",
    "\n",
    "- 'Zero-R',\n",
    "- 'Logistic Regression',\n",
    "- 'Decision Tree',\n",
    "- 'KNN',\n",
    "- 'GaussianNB',\n",
    "- 'Logistic Regression'"
   ]
  },
  {
   "cell_type": "code",
   "execution_count": null,
   "metadata": {},
   "outputs": [],
   "source": [
    "\n",
    "\n",
    "np.random.seed(1)\n",
    "\n",
    "class StackingClassifier():\n",
    "\n",
    "    def __init__(self, classifiers, metaclassifier):\n",
    "        self.classifiers = classifiers\n",
    "        self.metaclassifier = metaclassifier\n",
    "\n",
    "    def fit(self, X, y):\n",
    "        for clf in self.classifiers:\n",
    "            clf.fit(X, y)\n",
    "        X_meta = self._predict_base(X)\n",
    "        self.metaclassifier.fit(X_meta, y)\n",
    "    \n",
    "    def _predict_base(self, X):\n",
    "        yhats = []\n",
    "        for clf in self.classifiers:\n",
    "            yhat = clf.predict_proba(X)\n",
    "            yhats.append(yhat)\n",
    "        yhats = np.concatenate(yhats, axis=1)\n",
    "        assert yhats.shape[0] == X.shape[0]\n",
    "        return yhats\n",
    "    \n",
    "    def predict(self, X):\n",
    "        X_meta = self._predict_base(X)     \n",
    "        yhat = self.metaclassifier.predict(X_meta)\n",
    "        return yhat\n",
    "    def score(self, X, y):\n",
    "        yhat = self.predict(X)\n",
    "        return accuracy_score(y, yhat)\n",
    "\n",
    "\n",
    "classifiers = [DummyClassifier(strategy='most_frequent'),\n",
    "               \n",
    "          LogisticRegression(random_state=10),\n",
    "          DecisionTreeClassifier(random_state=10),\n",
    "          KNeighborsClassifier(),\n",
    "          GaussianNB(),\n",
    "        LogisticRegression(random_state=10)]\n",
    "titles = ['Zero-R',\n",
    "          'Logistic Regression',\n",
    "          'Decision Tree',\n",
    "          'KNN',\n",
    "          'GaussianNB',\n",
    "          'Logistic Regression']\n",
    "\n",
    "meta_classifier = LogisticRegression()\n",
    "stacker = StackingClassifier(classifiers, meta_classifier)\n",
    "    "
   ]
  },
  {
   "cell_type": "code",
   "execution_count": null,
   "metadata": {
    "scrolled": true
   },
   "outputs": [],
   "source": [
    "# Do prediction using stacking\n",
    "for title, model in zip(titles, models):\n",
    "    model.fit(X_train,y_train)\n",
    "    start = time.time()\n",
    "    acc = model.score(X_test, y_test)\n",
    "    end = time.time()\n",
    "    t = end-start\n",
    "    print(title, \"Accuracy:\",acc, 'Time:', t)\n",
    "stacker.fit(X_train, y_train)\n",
    "print(\"\\n\\nTotal Performance:\")\n",
    "print('\\nStacker Accuracy:', stacker.score(X_test, y_test))"
   ]
  },
  {
   "cell_type": "markdown",
   "metadata": {},
   "source": [
    "Overall, using specific n_steps and n_ingredients may not be good enough"
   ]
  },
  {
   "cell_type": "markdown",
   "metadata": {},
   "source": [
    "# Neural Net Work Part\n",
    "# ----------------------------------------------\n",
    "### Load Vectorized Data and Use Neural Network"
   ]
  },
  {
   "cell_type": "markdown",
   "metadata": {},
   "source": [
    "## Select k Best features for classification\n",
    "\n",
    "### Combining \n",
    "1. Standarlise\n",
    "2. TOP K feature selection\n",
    "3. fit to Neural Network"
   ]
  },
  {
   "cell_type": "markdown",
   "metadata": {},
   "source": [
    "## 1.1 doc2vec Combining step, ingredients using df Concatenate"
   ]
  },
  {
   "cell_type": "code",
   "execution_count": null,
   "metadata": {},
   "outputs": [],
   "source": [
    "import pandas as pd\n",
    "import sklearn\n",
    "from sklearn.model_selection import cross_val_score\n",
    "from sklearn.model_selection import train_test_split # Newer versions\n",
    "from sklearn.feature_extraction.text import CountVectorizer\n",
    "import numpy as np\n",
    "from sklearn import datasets, svm\n",
    "import matplotlib.pyplot as plt\n",
    "import random\n",
    "from sklearn import svm\n",
    "from sklearn.naive_bayes import GaussianNB, MultinomialNB\n",
    "from sklearn.neighbors import KNeighborsClassifier\n",
    "from sklearn.tree import DecisionTreeClassifier\n",
    "from sklearn.dummy import DummyClassifier\n",
    "from sklearn.metrics import accuracy_score\n",
    "from sklearn.linear_model import LogisticRegression\n",
    "import time\n",
    "from sklearn.feature_selection import SelectKBest, chi2, mutual_info_classif\n",
    "from sklearn.pipeline import Pipeline\n",
    "from sklearn.preprocessing import StandardScaler\n",
    "from sklearn.neural_network import MLPClassifier\n",
    "\n",
    "\n",
    "# mute warning that assign columns on dataframe   eg,  df[\"col1\"] = df[\"col11\"]\n",
    "pd.options.mode.chained_assignment = None  # default='warn'"
   ]
  },
  {
   "cell_type": "code",
   "execution_count": 42,
   "metadata": {
    "scrolled": true
   },
   "outputs": [],
   "source": [
    "# Read Data\n",
    "# Store Original data\n",
    "whole_data = pd.read_csv(r\"data/recipe_train.csv\", index_col = False, delimiter = ',', header=0)\n",
    "\n",
    "# for each one\n",
    "step = pd.read_csv(r\"data/train_steps_doc2vec50.csv\",header=None ,index_col = False, delimiter = ',')\n",
    "step_df = pd.DataFrame(step)\n",
    "ingr = pd.read_csv(r\"data/train_ingr_doc2vec50.csv\",header=None ,index_col = False, delimiter = ',')\n",
    "ingr_df = pd.DataFrame(ingr)\n",
    "name = pd.read_csv(r\"data/train_name_doc2vec50.csv\",header=None ,index_col = False, delimiter = ',')\n",
    "name_df = pd.DataFrame(name)\n",
    "\n",
    "# Combining Dataframes\n",
    "combined_df = pd.concat([step_df,ingr_df,name_df], axis=1)\n",
    "#combined_df\n"
   ]
  },
  {
   "cell_type": "code",
   "execution_count": 25,
   "metadata": {},
   "outputs": [
    {
     "name": "stdout",
     "output_type": "stream",
     "text": [
      "corss-val noncheating standardised features acc: 0.6605\n"
     ]
    }
   ],
   "source": [
    "#Doing classification\n",
    "X_train = combined_df\n",
    "y_train = whole_data[\"duration_label\"]\n",
    "\n",
    "# 1. Standarlise\n",
    "scaler = StandardScaler()\n",
    "\n",
    "# 2. Feature Selection (selecting best vectorlised words we can use)\n",
    "mi = SelectKBest(mutual_info_classif,k=30)  # top k good features\n",
    "\n",
    "# 3. NN Model\n",
    "clf = MLPClassifier(max_iter=2000)\n",
    "\n",
    "# Combining 1,2,3 into pipline\n",
    "pipeline = Pipeline([('transformer', scaler),('select k best feature', mi), ('estimator', clf)])\n",
    "\n",
    "\n",
    "# Get Result\n",
    "print('corss-val noncheating standardised features acc:', np.mean(cross_val_score(pipeline, X_train, y_train, cv=5)))"
   ]
  },
  {
   "cell_type": "markdown",
   "metadata": {},
   "source": [
    "As mentioned above, combining steps, ingridients, name matrix and find best 30 features using mutual information"
   ]
  },
  {
   "cell_type": "markdown",
   "metadata": {},
   "source": [
    "## 1.2 doc2vec Combining step, ingredients, n_steps, n_ingredients using df Concatenate"
   ]
  },
  {
   "cell_type": "code",
   "execution_count": 86,
   "metadata": {},
   "outputs": [],
   "source": [
    "# Store Original data\n",
    "whole_data = pd.read_csv(r\"data/recipe_train.csv\", index_col = False, delimiter = ',', header=0)\n",
    "\n",
    "# Read Data\n",
    "#vocab = pickle.load(open(\"train_name_countvectorizer.pkl\", \"rb\"))\n",
    "step = pd.read_csv(r\"data/train_steps_doc2vec50.csv\",header=None ,index_col = False, delimiter = ',')\n",
    "step_df = pd.DataFrame(step)\n",
    "ingr = pd.read_csv(r\"data/train_ingr_doc2vec50.csv\",header=None ,index_col = False, delimiter = ',')\n",
    "ingr_df = pd.DataFrame(ingr)\n",
    "name = pd.read_csv(r\"data/train_name_doc2vec50.csv\",header=None ,index_col = False, delimiter = ',')\n",
    "name_df = pd.DataFrame(name)\n",
    "nstep = whole_data[\"n_steps\"]\n",
    "ningr = whole_data[\"n_ingredients\"]\n",
    "\n",
    "# Combining Dataframes\n",
    "combined_df = pd.concat([nstep,ningr,step_df,ingr_df,name_df], axis=1)"
   ]
  },
  {
   "cell_type": "code",
   "execution_count": 93,
   "metadata": {},
   "outputs": [
    {
     "name": "stdout",
     "output_type": "stream",
     "text": [
      "corss-val noncheating standardised features acc: 0.6260000000000001\n"
     ]
    }
   ],
   "source": [
    "#Doing classification\n",
    "X_train = combined_df.iloc[0:1000,]\n",
    "\n",
    "y_train = whole_data[\"duration_label\"].iloc[0:1000,]\n",
    "\n",
    "## 1. Standarlise\n",
    "scaler = StandardScaler()\n",
    "X_train = scaler.fit_transform(X_train)\n",
    "\n",
    "# 2. Feature Selection (selecting best vectorlised words we can use)\n",
    "mi = SelectKBest(mutual_info_classif,k=150)  # top k good features\n",
    "X_train = mi.fit_transform(X_train,y_train)\n",
    "\n",
    "#X_test_x2 = x2.transform(X_test)\n",
    "# 3. NN Model\n",
    "clf = MLPClassifier(max_iter=2000,random_state=2)\n",
    "\n",
    "\n",
    "\n",
    "\n",
    "# Get Result\n",
    "print('corss-val noncheating standardised features acc:', np.mean(cross_val_score(clf, X_train, y_train, cv=5)))"
   ]
  },
  {
   "cell_type": "markdown",
   "metadata": {},
   "source": [
    "### 1.3 Find if StandardScaler() will make a difference to our model "
   ]
  },
  {
   "cell_type": "code",
   "execution_count": 95,
   "metadata": {},
   "outputs": [
    {
     "data": {
      "image/png": "[encoded data removed]",
      "text/plain": [
       "<Figure size 432x288 with 1 Axes>"
      ]
     },
     "metadata": {
      "needs_background": "light"
     },
     "output_type": "display_data"
    },
    {
     "name": "stdout",
     "output_type": "stream",
     "text": [
      "Accuracy with Standarlised model: 0.649\n",
      "Accuracy without Standarlised model: 0.6492000000000001\n"
     ]
    }
   ],
   "source": [
    "## Find if using StandardScaler() will make a difference to our model \n",
    "\n",
    "# Store different scores for using StandardScaler() and not\n",
    "score_std=[]\n",
    "score_without_std=[]\n",
    "\n",
    "# iterate through different random state using StandardScaler()\n",
    "for i in range(0,20):\n",
    "    X_train = combined_df.iloc[0:1000,]\n",
    "    y_train = whole_data[\"duration_label\"].iloc[0:1000,]\n",
    "\n",
    "    ## 1. Standarlise\n",
    "    scaler = StandardScaler()\n",
    "    X_train = scaler.fit_transform(X_train)\n",
    "    # 2. Feature Selection (selecting best vectorlised words we can use)\n",
    "    mi = SelectKBest(mutual_info_classif,k=150)  # top k good features\n",
    "    X_train = mi.fit_transform(X_train,y_train)\n",
    "    # 3. NN Model\n",
    "    clf = MLPClassifier(max_iter=2000,random_state=i)\n",
    "    # Get Result\n",
    "    score_std.append(np.mean(cross_val_score(clf, X_train, y_train, cv=5)))\n",
    "    \n",
    "# iterate through different random state without using StandardScaler()\n",
    "for i in range(0,20):\n",
    "    X_train = combined_df.iloc[0:1000,]\n",
    "    y_train = whole_data[\"duration_label\"].iloc[0:1000,]\n",
    "\n",
    "    ## 1. Standarlise\n",
    "    scaler = StandardScaler()\n",
    "    # 2. Feature Selection (selecting best vectorlised words we can use)\n",
    "    mi = SelectKBest(mutual_info_classif,k=150)  # top k good features\n",
    "    X_train = mi.fit_transform(X_train,y_train)\n",
    "    # 3. NN Model\n",
    "    clf = MLPClassifier(max_iter=2000,random_state=i)\n",
    "    # Get Result\n",
    "    score_without_std.append(np.mean(cross_val_score(clf, X_train, y_train, cv=5)))\n",
    "    \n",
    "    \n",
    "plt.plot(range(len(score_std)), score_std, label='standarlised')\n",
    "plt.plot(range(len(score_without_std)), score_without_std, label='without std')\n",
    "plt.title('with Standarlise vs. without Standarlise')\n",
    "plt.ylabel('prediction')\n",
    "plt.xlabel('run times')\n",
    "plt.legend()\n",
    "plt.show()\n",
    "print(\"Accuracy with Standarlised model:\", np.mean(score_std))\n",
    "print(\"Accuracy without Standarlised model:\", np.mean(score_without_std))"
   ]
  },
  {
   "cell_type": "markdown",
   "metadata": {},
   "source": [
    "As plot shown above, using standarlised scaler doesn't affect much accuracy for our model"
   ]
  },
  {
   "cell_type": "markdown",
   "metadata": {},
   "source": [
    "\n",
    "\n",
    "## 2.1 countVec Combining step, ingredients using sparce matrix Concatenate"
   ]
  },
  {
   "cell_type": "markdown",
   "metadata": {},
   "source": [
    "\n",
    "#### 2.1.1 Select Dtop 500 features from ingredients, steps separately, THEN combing them into dataframe."
   ]
  },
  {
   "cell_type": "code",
   "execution_count": 40,
   "metadata": {},
   "outputs": [],
   "source": [
    "# Store Original data\n",
    "whole_data = pd.read_csv(r\"data/recipe_train.csv\", index_col = False, delimiter = ',', header=0)\n",
    "y_train = whole_data[\"duration_label\"]\n",
    "# Feature Selection to reduce size\n",
    "mi = SelectKBest(mutual_info_classif,k=500)  # top k good features\n",
    "\n",
    "\n",
    "# Read Data and convert to dataframe\n",
    "step = scipy.sparse.load_npz(\"data/train_steps_vec.npz\")\n",
    "step = mi.fit_transform(step,y_train)   # Feature Selection to reduce size\n",
    "\n",
    "# ingr data\n",
    "ingr = scipy.sparse.load_npz(\"data/train_ingr_vec.npz\")\n",
    "ingr = mi.fit_transform(ingr,y_train)   # Feature Selection to reduce size\n",
    "\n",
    "# name data\n",
    "name = scipy.sparse.load_npz(\"data/train_name_vec.npz\")\n",
    "name = mi.fit_transform(name,y_train)   # Feature Selection to reduce size\n",
    "\n",
    "nstep = whole_data[\"n_steps\"]\n",
    "ningr = whole_data[\"n_ingredients\"]\n",
    "\n",
    "# Combining Dataframes\n",
    "combined_matrix = hstack((step, ingr, name))\n",
    "combined_vec_df = pd.DataFrame.sparse.from_spmatrix(combined_matrix, index=None, columns=None)\n",
    "\n",
    "combined_df = pd.concat([nstep,ningr,combined_vec_df], axis=1)\n",
    "#combined_df"
   ]
  },
  {
   "cell_type": "markdown",
   "metadata": {},
   "source": [
    "#### 2.1.2 Using Combined Dataframe (n_steps, n_ingrs, steps, ingrs), use grid search to find optimum parameters\n",
    "1. choose optimal top k features\n",
    "2. reduce the size of the model by using top k features\n",
    "3. use grid search to find best parameters for NN algorithm\n",
    "\n",
    "#### 2.1.3 Using Grid Search to Find Optimal Parameters\n",
    "Code from Practical-11-2021"
   ]
  },
  {
   "cell_type": "code",
   "execution_count": 41,
   "metadata": {},
   "outputs": [
    {
     "name": "stdout",
     "output_type": "stream",
     "text": [
      "Fitting 3 folds for each of 4 candidates, totalling 12 fits\n"
     ]
    },
    {
     "name": "stderr",
     "output_type": "stream",
     "text": [
      "[Parallel(n_jobs=2)]: Using backend LokyBackend with 2 concurrent workers.\n"
     ]
    },
    {
     "ename": "KeyboardInterrupt",
     "evalue": "",
     "output_type": "error",
     "traceback": [
      "\u001b[1;31m---------------------------------------------------------------------------\u001b[0m",
      "\u001b[1;31mKeyboardInterrupt\u001b[0m                         Traceback (most recent call last)",
      "\u001b[1;32m<ipython-input-41-b75357fd9569>\u001b[0m in \u001b[0;36m<module>\u001b[1;34m\u001b[0m\n\u001b[0;32m     20\u001b[0m                   \u001b[0mn_jobs\u001b[0m\u001b[1;33m=\u001b[0m\u001b[1;36m2\u001b[0m\u001b[1;33m,\u001b[0m\u001b[1;33m\u001b[0m\u001b[1;33m\u001b[0m\u001b[0m\n\u001b[0;32m     21\u001b[0m                   verbose=1)\n\u001b[1;32m---> 22\u001b[1;33m \u001b[0mgs\u001b[0m\u001b[1;33m.\u001b[0m\u001b[0mfit\u001b[0m\u001b[1;33m(\u001b[0m\u001b[0mX_train\u001b[0m\u001b[1;33m,\u001b[0m \u001b[0my_train\u001b[0m\u001b[1;33m)\u001b[0m\u001b[1;33m\u001b[0m\u001b[1;33m\u001b[0m\u001b[0m\n\u001b[0m\u001b[0;32m     23\u001b[0m \u001b[0mbest_k\u001b[0m \u001b[1;33m=\u001b[0m \u001b[0mgs\u001b[0m\u001b[1;33m.\u001b[0m\u001b[0mbest_params_\u001b[0m\u001b[1;33m\u001b[0m\u001b[1;33m\u001b[0m\u001b[0m\n\u001b[0;32m     24\u001b[0m \u001b[0mprint\u001b[0m\u001b[1;33m(\u001b[0m\u001b[1;34m'best k value for feature selection'\u001b[0m\u001b[1;33m,\u001b[0m \u001b[0mbest_k\u001b[0m\u001b[1;33m)\u001b[0m\u001b[1;33m\u001b[0m\u001b[1;33m\u001b[0m\u001b[0m\n",
      "\u001b[1;32mE:\\Anaconda\\lib\\site-packages\\sklearn\\utils\\validation.py\u001b[0m in \u001b[0;36minner_f\u001b[1;34m(*args, **kwargs)\u001b[0m\n\u001b[0;32m     70\u001b[0m                           FutureWarning)\n\u001b[0;32m     71\u001b[0m         \u001b[0mkwargs\u001b[0m\u001b[1;33m.\u001b[0m\u001b[0mupdate\u001b[0m\u001b[1;33m(\u001b[0m\u001b[1;33m{\u001b[0m\u001b[0mk\u001b[0m\u001b[1;33m:\u001b[0m \u001b[0marg\u001b[0m \u001b[1;32mfor\u001b[0m \u001b[0mk\u001b[0m\u001b[1;33m,\u001b[0m \u001b[0marg\u001b[0m \u001b[1;32min\u001b[0m \u001b[0mzip\u001b[0m\u001b[1;33m(\u001b[0m\u001b[0msig\u001b[0m\u001b[1;33m.\u001b[0m\u001b[0mparameters\u001b[0m\u001b[1;33m,\u001b[0m \u001b[0margs\u001b[0m\u001b[1;33m)\u001b[0m\u001b[1;33m}\u001b[0m\u001b[1;33m)\u001b[0m\u001b[1;33m\u001b[0m\u001b[1;33m\u001b[0m\u001b[0m\n\u001b[1;32m---> 72\u001b[1;33m         \u001b[1;32mreturn\u001b[0m \u001b[0mf\u001b[0m\u001b[1;33m(\u001b[0m\u001b[1;33m**\u001b[0m\u001b[0mkwargs\u001b[0m\u001b[1;33m)\u001b[0m\u001b[1;33m\u001b[0m\u001b[1;33m\u001b[0m\u001b[0m\n\u001b[0m\u001b[0;32m     73\u001b[0m     \u001b[1;32mreturn\u001b[0m \u001b[0minner_f\u001b[0m\u001b[1;33m\u001b[0m\u001b[1;33m\u001b[0m\u001b[0m\n\u001b[0;32m     74\u001b[0m \u001b[1;33m\u001b[0m\u001b[0m\n",
      "\u001b[1;32mE:\\Anaconda\\lib\\site-packages\\sklearn\\model_selection\\_search.py\u001b[0m in \u001b[0;36mfit\u001b[1;34m(self, X, y, groups, **fit_params)\u001b[0m\n\u001b[0;32m    734\u001b[0m                 \u001b[1;32mreturn\u001b[0m \u001b[0mresults\u001b[0m\u001b[1;33m\u001b[0m\u001b[1;33m\u001b[0m\u001b[0m\n\u001b[0;32m    735\u001b[0m \u001b[1;33m\u001b[0m\u001b[0m\n\u001b[1;32m--> 736\u001b[1;33m             \u001b[0mself\u001b[0m\u001b[1;33m.\u001b[0m\u001b[0m_run_search\u001b[0m\u001b[1;33m(\u001b[0m\u001b[0mevaluate_candidates\u001b[0m\u001b[1;33m)\u001b[0m\u001b[1;33m\u001b[0m\u001b[1;33m\u001b[0m\u001b[0m\n\u001b[0m\u001b[0;32m    737\u001b[0m \u001b[1;33m\u001b[0m\u001b[0m\n\u001b[0;32m    738\u001b[0m         \u001b[1;31m# For multi-metric evaluation, store the best_index_, best_params_ and\u001b[0m\u001b[1;33m\u001b[0m\u001b[1;33m\u001b[0m\u001b[1;33m\u001b[0m\u001b[0m\n",
      "\u001b[1;32mE:\\Anaconda\\lib\\site-packages\\sklearn\\model_selection\\_search.py\u001b[0m in \u001b[0;36m_run_search\u001b[1;34m(self, evaluate_candidates)\u001b[0m\n\u001b[0;32m   1186\u001b[0m     \u001b[1;32mdef\u001b[0m \u001b[0m_run_search\u001b[0m\u001b[1;33m(\u001b[0m\u001b[0mself\u001b[0m\u001b[1;33m,\u001b[0m \u001b[0mevaluate_candidates\u001b[0m\u001b[1;33m)\u001b[0m\u001b[1;33m:\u001b[0m\u001b[1;33m\u001b[0m\u001b[1;33m\u001b[0m\u001b[0m\n\u001b[0;32m   1187\u001b[0m         \u001b[1;34m\"\"\"Search all candidates in param_grid\"\"\"\u001b[0m\u001b[1;33m\u001b[0m\u001b[1;33m\u001b[0m\u001b[0m\n\u001b[1;32m-> 1188\u001b[1;33m         \u001b[0mevaluate_candidates\u001b[0m\u001b[1;33m(\u001b[0m\u001b[0mParameterGrid\u001b[0m\u001b[1;33m(\u001b[0m\u001b[0mself\u001b[0m\u001b[1;33m.\u001b[0m\u001b[0mparam_grid\u001b[0m\u001b[1;33m)\u001b[0m\u001b[1;33m)\u001b[0m\u001b[1;33m\u001b[0m\u001b[1;33m\u001b[0m\u001b[0m\n\u001b[0m\u001b[0;32m   1189\u001b[0m \u001b[1;33m\u001b[0m\u001b[0m\n\u001b[0;32m   1190\u001b[0m \u001b[1;33m\u001b[0m\u001b[0m\n",
      "\u001b[1;32mE:\\Anaconda\\lib\\site-packages\\sklearn\\model_selection\\_search.py\u001b[0m in \u001b[0;36mevaluate_candidates\u001b[1;34m(candidate_params)\u001b[0m\n\u001b[0;32m    706\u001b[0m                               n_splits, n_candidates, n_candidates * n_splits))\n\u001b[0;32m    707\u001b[0m \u001b[1;33m\u001b[0m\u001b[0m\n\u001b[1;32m--> 708\u001b[1;33m                 out = parallel(delayed(_fit_and_score)(clone(base_estimator),\n\u001b[0m\u001b[0;32m    709\u001b[0m                                                        \u001b[0mX\u001b[0m\u001b[1;33m,\u001b[0m \u001b[0my\u001b[0m\u001b[1;33m,\u001b[0m\u001b[1;33m\u001b[0m\u001b[1;33m\u001b[0m\u001b[0m\n\u001b[0;32m    710\u001b[0m                                                        \u001b[0mtrain\u001b[0m\u001b[1;33m=\u001b[0m\u001b[0mtrain\u001b[0m\u001b[1;33m,\u001b[0m \u001b[0mtest\u001b[0m\u001b[1;33m=\u001b[0m\u001b[0mtest\u001b[0m\u001b[1;33m,\u001b[0m\u001b[1;33m\u001b[0m\u001b[1;33m\u001b[0m\u001b[0m\n",
      "\u001b[1;32mE:\\Anaconda\\lib\\site-packages\\joblib\\parallel.py\u001b[0m in \u001b[0;36m__call__\u001b[1;34m(self, iterable)\u001b[0m\n\u001b[0;32m   1059\u001b[0m \u001b[1;33m\u001b[0m\u001b[0m\n\u001b[0;32m   1060\u001b[0m             \u001b[1;32mwith\u001b[0m \u001b[0mself\u001b[0m\u001b[1;33m.\u001b[0m\u001b[0m_backend\u001b[0m\u001b[1;33m.\u001b[0m\u001b[0mretrieval_context\u001b[0m\u001b[1;33m(\u001b[0m\u001b[1;33m)\u001b[0m\u001b[1;33m:\u001b[0m\u001b[1;33m\u001b[0m\u001b[1;33m\u001b[0m\u001b[0m\n\u001b[1;32m-> 1061\u001b[1;33m                 \u001b[0mself\u001b[0m\u001b[1;33m.\u001b[0m\u001b[0mretrieve\u001b[0m\u001b[1;33m(\u001b[0m\u001b[1;33m)\u001b[0m\u001b[1;33m\u001b[0m\u001b[1;33m\u001b[0m\u001b[0m\n\u001b[0m\u001b[0;32m   1062\u001b[0m             \u001b[1;31m# Make sure that we get a last message telling us we are done\u001b[0m\u001b[1;33m\u001b[0m\u001b[1;33m\u001b[0m\u001b[1;33m\u001b[0m\u001b[0m\n\u001b[0;32m   1063\u001b[0m             \u001b[0melapsed_time\u001b[0m \u001b[1;33m=\u001b[0m \u001b[0mtime\u001b[0m\u001b[1;33m.\u001b[0m\u001b[0mtime\u001b[0m\u001b[1;33m(\u001b[0m\u001b[1;33m)\u001b[0m \u001b[1;33m-\u001b[0m \u001b[0mself\u001b[0m\u001b[1;33m.\u001b[0m\u001b[0m_start_time\u001b[0m\u001b[1;33m\u001b[0m\u001b[1;33m\u001b[0m\u001b[0m\n",
      "\u001b[1;32mE:\\Anaconda\\lib\\site-packages\\joblib\\parallel.py\u001b[0m in \u001b[0;36mretrieve\u001b[1;34m(self)\u001b[0m\n\u001b[0;32m    938\u001b[0m             \u001b[1;32mtry\u001b[0m\u001b[1;33m:\u001b[0m\u001b[1;33m\u001b[0m\u001b[1;33m\u001b[0m\u001b[0m\n\u001b[0;32m    939\u001b[0m                 \u001b[1;32mif\u001b[0m \u001b[0mgetattr\u001b[0m\u001b[1;33m(\u001b[0m\u001b[0mself\u001b[0m\u001b[1;33m.\u001b[0m\u001b[0m_backend\u001b[0m\u001b[1;33m,\u001b[0m \u001b[1;34m'supports_timeout'\u001b[0m\u001b[1;33m,\u001b[0m \u001b[1;32mFalse\u001b[0m\u001b[1;33m)\u001b[0m\u001b[1;33m:\u001b[0m\u001b[1;33m\u001b[0m\u001b[1;33m\u001b[0m\u001b[0m\n\u001b[1;32m--> 940\u001b[1;33m                     \u001b[0mself\u001b[0m\u001b[1;33m.\u001b[0m\u001b[0m_output\u001b[0m\u001b[1;33m.\u001b[0m\u001b[0mextend\u001b[0m\u001b[1;33m(\u001b[0m\u001b[0mjob\u001b[0m\u001b[1;33m.\u001b[0m\u001b[0mget\u001b[0m\u001b[1;33m(\u001b[0m\u001b[0mtimeout\u001b[0m\u001b[1;33m=\u001b[0m\u001b[0mself\u001b[0m\u001b[1;33m.\u001b[0m\u001b[0mtimeout\u001b[0m\u001b[1;33m)\u001b[0m\u001b[1;33m)\u001b[0m\u001b[1;33m\u001b[0m\u001b[1;33m\u001b[0m\u001b[0m\n\u001b[0m\u001b[0;32m    941\u001b[0m                 \u001b[1;32melse\u001b[0m\u001b[1;33m:\u001b[0m\u001b[1;33m\u001b[0m\u001b[1;33m\u001b[0m\u001b[0m\n\u001b[0;32m    942\u001b[0m                     \u001b[0mself\u001b[0m\u001b[1;33m.\u001b[0m\u001b[0m_output\u001b[0m\u001b[1;33m.\u001b[0m\u001b[0mextend\u001b[0m\u001b[1;33m(\u001b[0m\u001b[0mjob\u001b[0m\u001b[1;33m.\u001b[0m\u001b[0mget\u001b[0m\u001b[1;33m(\u001b[0m\u001b[1;33m)\u001b[0m\u001b[1;33m)\u001b[0m\u001b[1;33m\u001b[0m\u001b[1;33m\u001b[0m\u001b[0m\n",
      "\u001b[1;32mE:\\Anaconda\\lib\\site-packages\\joblib\\_parallel_backends.py\u001b[0m in \u001b[0;36mwrap_future_result\u001b[1;34m(future, timeout)\u001b[0m\n\u001b[0;32m    540\u001b[0m         AsyncResults.get from multiprocessing.\"\"\"\n\u001b[0;32m    541\u001b[0m         \u001b[1;32mtry\u001b[0m\u001b[1;33m:\u001b[0m\u001b[1;33m\u001b[0m\u001b[1;33m\u001b[0m\u001b[0m\n\u001b[1;32m--> 542\u001b[1;33m             \u001b[1;32mreturn\u001b[0m \u001b[0mfuture\u001b[0m\u001b[1;33m.\u001b[0m\u001b[0mresult\u001b[0m\u001b[1;33m(\u001b[0m\u001b[0mtimeout\u001b[0m\u001b[1;33m=\u001b[0m\u001b[0mtimeout\u001b[0m\u001b[1;33m)\u001b[0m\u001b[1;33m\u001b[0m\u001b[1;33m\u001b[0m\u001b[0m\n\u001b[0m\u001b[0;32m    543\u001b[0m         \u001b[1;32mexcept\u001b[0m \u001b[0mCfTimeoutError\u001b[0m \u001b[1;32mas\u001b[0m \u001b[0me\u001b[0m\u001b[1;33m:\u001b[0m\u001b[1;33m\u001b[0m\u001b[1;33m\u001b[0m\u001b[0m\n\u001b[0;32m    544\u001b[0m             \u001b[1;32mraise\u001b[0m \u001b[0mTimeoutError\u001b[0m \u001b[1;32mfrom\u001b[0m \u001b[0me\u001b[0m\u001b[1;33m\u001b[0m\u001b[1;33m\u001b[0m\u001b[0m\n",
      "\u001b[1;32mE:\\Anaconda\\lib\\concurrent\\futures\\_base.py\u001b[0m in \u001b[0;36mresult\u001b[1;34m(self, timeout)\u001b[0m\n\u001b[0;32m    432\u001b[0m                 \u001b[1;32mreturn\u001b[0m \u001b[0mself\u001b[0m\u001b[1;33m.\u001b[0m\u001b[0m__get_result\u001b[0m\u001b[1;33m(\u001b[0m\u001b[1;33m)\u001b[0m\u001b[1;33m\u001b[0m\u001b[1;33m\u001b[0m\u001b[0m\n\u001b[0;32m    433\u001b[0m \u001b[1;33m\u001b[0m\u001b[0m\n\u001b[1;32m--> 434\u001b[1;33m             \u001b[0mself\u001b[0m\u001b[1;33m.\u001b[0m\u001b[0m_condition\u001b[0m\u001b[1;33m.\u001b[0m\u001b[0mwait\u001b[0m\u001b[1;33m(\u001b[0m\u001b[0mtimeout\u001b[0m\u001b[1;33m)\u001b[0m\u001b[1;33m\u001b[0m\u001b[1;33m\u001b[0m\u001b[0m\n\u001b[0m\u001b[0;32m    435\u001b[0m \u001b[1;33m\u001b[0m\u001b[0m\n\u001b[0;32m    436\u001b[0m             \u001b[1;32mif\u001b[0m \u001b[0mself\u001b[0m\u001b[1;33m.\u001b[0m\u001b[0m_state\u001b[0m \u001b[1;32min\u001b[0m \u001b[1;33m[\u001b[0m\u001b[0mCANCELLED\u001b[0m\u001b[1;33m,\u001b[0m \u001b[0mCANCELLED_AND_NOTIFIED\u001b[0m\u001b[1;33m]\u001b[0m\u001b[1;33m:\u001b[0m\u001b[1;33m\u001b[0m\u001b[1;33m\u001b[0m\u001b[0m\n",
      "\u001b[1;32mE:\\Anaconda\\lib\\threading.py\u001b[0m in \u001b[0;36mwait\u001b[1;34m(self, timeout)\u001b[0m\n\u001b[0;32m    300\u001b[0m         \u001b[1;32mtry\u001b[0m\u001b[1;33m:\u001b[0m    \u001b[1;31m# restore state no matter what (e.g., KeyboardInterrupt)\u001b[0m\u001b[1;33m\u001b[0m\u001b[1;33m\u001b[0m\u001b[0m\n\u001b[0;32m    301\u001b[0m             \u001b[1;32mif\u001b[0m \u001b[0mtimeout\u001b[0m \u001b[1;32mis\u001b[0m \u001b[1;32mNone\u001b[0m\u001b[1;33m:\u001b[0m\u001b[1;33m\u001b[0m\u001b[1;33m\u001b[0m\u001b[0m\n\u001b[1;32m--> 302\u001b[1;33m                 \u001b[0mwaiter\u001b[0m\u001b[1;33m.\u001b[0m\u001b[0macquire\u001b[0m\u001b[1;33m(\u001b[0m\u001b[1;33m)\u001b[0m\u001b[1;33m\u001b[0m\u001b[1;33m\u001b[0m\u001b[0m\n\u001b[0m\u001b[0;32m    303\u001b[0m                 \u001b[0mgotit\u001b[0m \u001b[1;33m=\u001b[0m \u001b[1;32mTrue\u001b[0m\u001b[1;33m\u001b[0m\u001b[1;33m\u001b[0m\u001b[0m\n\u001b[0;32m    304\u001b[0m             \u001b[1;32melse\u001b[0m\u001b[1;33m:\u001b[0m\u001b[1;33m\u001b[0m\u001b[1;33m\u001b[0m\u001b[0m\n",
      "\u001b[1;31mKeyboardInterrupt\u001b[0m: "
     ]
    }
   ],
   "source": [
    "#Doing classification\n",
    "X_train = combined_df\n",
    "y_train = whole_data[\"duration_label\"]\n",
    "\n",
    "## 1. Standarlise\n",
    "#scaler = StandardScaler()\n",
    "#X_train = scaler.fit_transform(X_train)\n",
    "\n",
    "\n",
    "# 2. #####  Feature Selection (selecting best vectorlised words we can use)\n",
    "mi = SelectKBest(mutual_info_classif,k=50)  # top k good features\n",
    "\n",
    "# Doing Grid Search For finding best k good features\n",
    "k = [10,20,50,100]\n",
    "param_grid = {'k': k}\n",
    "gs = GridSearchCV(estimator=mi,\n",
    "                  param_grid=param_grid,\n",
    "                  scoring='accuracy',\n",
    "                  cv=3,\n",
    "                  n_jobs=-1,\n",
    "                  verbose=1)\n",
    "gs.fit(X_train, y_train)\n",
    "best_k = gs.best_params_\n",
    "print('best k value for feature selection', best_k)\n",
    "mi = SelectKBest(mutual_info_classif, **best_k)\n",
    "# put model to change training data\n",
    "X_train = mi.fit_transform(X_train,y_train)\n",
    "\n",
    "\n",
    "\n",
    "# 3. #####  NN Classification (selecting best vectorlised words we can use)\n",
    "\n",
    "clf = MLPClassifier(max_iter=2000,random_state=2)\n",
    "\n",
    "# without grid search tuning\n",
    "clf.fit(X_train, y_train)\n",
    "print('MLP acc without tuning:', clf.score(X_train, y_train))\n",
    "\n",
    "#arguments of MLPClassifier and a list of values for them to search and find the best.\n",
    "alphas = [np.power(10.0, i) for i in range(-7, 2)]\n",
    "hidden_sizes = [[100], [10, 10], [80,50,20]]\n",
    "param_grid = {'alpha': alphas, 'hidden_layer_sizes':hidden_sizes}\n",
    "\n",
    "# Do Grid Search\n",
    "gs = GridSearchCV(estimator=clf,\n",
    "                  param_grid=param_grid,\n",
    "                  scoring='accuracy',\n",
    "                  cv=3,\n",
    "                  n_jobs=-1,\n",
    "                  verbose=1)\n",
    "gs.fit(X_train, y_train)\n",
    "\n",
    "# Print Result\n",
    "best_params = gs.best_params_\n",
    "print('best_params', best_params)\n",
    "\n",
    "# Do Neural Network with best parameters\n",
    "clf = MLPClassifier(max_iter=2000, **best_params, random_state=2)\n",
    "clf.fit(X_train, y_train)\n",
    "print('acc with best params:', clf.score(X_test, y_test))"
   ]
  },
  {
   "cell_type": "markdown",
   "metadata": {},
   "source": [
    "# \n",
    "# Bibliograhy:\n",
    "# \n",
    "\n",
    "Generating Personalized Recipes from Historical User Preferences. Bodhisattwa Prasad Majumder,\n",
    "Shuyang Li, Jianmo Ni, Julian McAule+y, in Proceedings of the 2019 Conference on Empirical\n",
    "Methods in Natural Language Processing and the 9th International Joint Conference on Natural\n",
    "Language Processing (EMNLP-IJCNLP), 2019."
   ]
  },
  {
   "cell_type": "code",
   "execution_count": null,
   "metadata": {},
   "outputs": [],
   "source": []
  }
 ],
 "metadata": {
  "kernelspec": {
   "display_name": "Python 3",
   "language": "python",
   "name": "python3"
  },
  "language_info": {
   "codemirror_mode": {
    "name": "ipython",
    "version": 3
   },
   "file_extension": ".py",
   "mimetype": "text/x-python",
   "name": "python",
   "nbconvert_exporter": "python",
   "pygments_lexer": "ipython3",
   "version": "3.8.5"
  }
 },
 "nbformat": 4,
 "nbformat_minor": 4
}
